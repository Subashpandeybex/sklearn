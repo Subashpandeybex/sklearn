{
 "cells": [
  {
   "cell_type": "code",
   "execution_count": 1,
   "metadata": {
    "collapsed": true
   },
   "outputs": [],
   "source": [
    "import numpy as np\n",
    "import pandas as pd\n",
    "from sklearn import datasets\n",
    "from sklearn.tree import DecisionTreeClassifier\n",
    "import matplotlib.pyplot as plt\n",
    "\n",
    "%matplotlib inline"
   ]
  },
  {
   "cell_type": "code",
   "execution_count": 3,
   "metadata": {},
   "outputs": [],
   "source": [
    "digits = datasets.load_digits()"
   ]
  },
  {
   "cell_type": "code",
   "execution_count": 7,
   "metadata": {},
   "outputs": [
    {
     "data": {
      "text/plain": [
       "dict_keys(['data', 'target', 'target_names', 'images', 'DESCR'])"
      ]
     },
     "execution_count": 7,
     "metadata": {},
     "output_type": "execute_result"
    }
   ],
   "source": [
    "digits.keys()"
   ]
  },
  {
   "cell_type": "code",
   "execution_count": 9,
   "metadata": {},
   "outputs": [
    {
     "data": {
      "text/plain": [
       "array([[[  0.,   0.,   5., ...,   1.,   0.,   0.],\n",
       "        [  0.,   0.,  13., ...,  15.,   5.,   0.],\n",
       "        [  0.,   3.,  15., ...,  11.,   8.,   0.],\n",
       "        ..., \n",
       "        [  0.,   4.,  11., ...,  12.,   7.,   0.],\n",
       "        [  0.,   2.,  14., ...,  12.,   0.,   0.],\n",
       "        [  0.,   0.,   6., ...,   0.,   0.,   0.]],\n",
       "\n",
       "       [[  0.,   0.,   0., ...,   5.,   0.,   0.],\n",
       "        [  0.,   0.,   0., ...,   9.,   0.,   0.],\n",
       "        [  0.,   0.,   3., ...,   6.,   0.,   0.],\n",
       "        ..., \n",
       "        [  0.,   0.,   1., ...,   6.,   0.,   0.],\n",
       "        [  0.,   0.,   1., ...,   6.,   0.,   0.],\n",
       "        [  0.,   0.,   0., ...,  10.,   0.,   0.]],\n",
       "\n",
       "       [[  0.,   0.,   0., ...,  12.,   0.,   0.],\n",
       "        [  0.,   0.,   3., ...,  14.,   0.,   0.],\n",
       "        [  0.,   0.,   8., ...,  16.,   0.,   0.],\n",
       "        ..., \n",
       "        [  0.,   9.,  16., ...,   0.,   0.,   0.],\n",
       "        [  0.,   3.,  13., ...,  11.,   5.,   0.],\n",
       "        [  0.,   0.,   0., ...,  16.,   9.,   0.]],\n",
       "\n",
       "       ..., \n",
       "       [[  0.,   0.,   1., ...,   1.,   0.,   0.],\n",
       "        [  0.,   0.,  13., ...,   2.,   1.,   0.],\n",
       "        [  0.,   0.,  16., ...,  16.,   5.,   0.],\n",
       "        ..., \n",
       "        [  0.,   0.,  16., ...,  15.,   0.,   0.],\n",
       "        [  0.,   0.,  15., ...,  16.,   0.,   0.],\n",
       "        [  0.,   0.,   2., ...,   6.,   0.,   0.]],\n",
       "\n",
       "       [[  0.,   0.,   2., ...,   0.,   0.,   0.],\n",
       "        [  0.,   0.,  14., ...,  15.,   1.,   0.],\n",
       "        [  0.,   4.,  16., ...,  16.,   7.,   0.],\n",
       "        ..., \n",
       "        [  0.,   0.,   0., ...,  16.,   2.,   0.],\n",
       "        [  0.,   0.,   4., ...,  16.,   2.,   0.],\n",
       "        [  0.,   0.,   5., ...,  12.,   0.,   0.]],\n",
       "\n",
       "       [[  0.,   0.,  10., ...,   1.,   0.,   0.],\n",
       "        [  0.,   2.,  16., ...,   1.,   0.,   0.],\n",
       "        [  0.,   0.,  15., ...,  15.,   0.,   0.],\n",
       "        ..., \n",
       "        [  0.,   4.,  16., ...,  16.,   6.,   0.],\n",
       "        [  0.,   8.,  16., ...,  16.,   8.,   0.],\n",
       "        [  0.,   1.,   8., ...,  12.,   1.,   0.]]])"
      ]
     },
     "execution_count": 9,
     "metadata": {},
     "output_type": "execute_result"
    }
   ],
   "source": [
    "digits['images']"
   ]
  },
  {
   "cell_type": "code",
   "execution_count": 10,
   "metadata": {},
   "outputs": [
    {
     "data": {
      "text/plain": [
       "array([0, 1, 2, 3, 4, 5, 6, 7, 8, 9])"
      ]
     },
     "execution_count": 10,
     "metadata": {},
     "output_type": "execute_result"
    }
   ],
   "source": [
    "digits['target_names']"
   ]
  },
  {
   "cell_type": "code",
   "execution_count": 12,
   "metadata": {},
   "outputs": [],
   "source": [
    "X = digits.data # feature\n",
    "Y = digits.target # labels"
   ]
  },
  {
   "cell_type": "code",
   "execution_count": 22,
   "metadata": {},
   "outputs": [
    {
     "data": {
      "text/plain": [
       "(1797, 64)"
      ]
     },
     "execution_count": 22,
     "metadata": {},
     "output_type": "execute_result"
    }
   ],
   "source": [
    "X.shape"
   ]
  },
  {
   "cell_type": "code",
   "execution_count": 18,
   "metadata": {},
   "outputs": [
    {
     "data": {
      "text/plain": [
       "<matplotlib.image.AxesImage at 0x9e3b908>"
      ]
     },
     "execution_count": 18,
     "metadata": {},
     "output_type": "execute_result"
    },
    {
     "data": {
      "image/png": "[encoded data removed]",
      "text/plain": [
       "<matplotlib.figure.Figure at 0x9db8f60>"
      ]
     },
     "metadata": {},
     "output_type": "display_data"
    }
   ],
   "source": [
    "plt.imshow(X[0].reshape(8,8))"
   ]
  },
  {
   "cell_type": "code",
   "execution_count": 31,
   "metadata": {},
   "outputs": [
    {
     "data": {
      "text/plain": [
       "array([[  0.,   0.,   5.,  13.,   9.,   1.,   0.,   0.],\n",
       "       [  0.,   0.,  13.,  15.,  10.,  15.,   5.,   0.],\n",
       "       [  0.,   3.,  15.,   2.,   0.,  11.,   8.,   0.],\n",
       "       [  0.,   4.,  12.,   0.,   0.,   8.,   8.,   0.],\n",
       "       [  0.,   5.,   8.,   0.,   0.,   9.,   8.,   0.],\n",
       "       [  0.,   4.,  11.,   0.,   1.,  12.,   7.,   0.],\n",
       "       [  0.,   2.,  14.,   5.,  10.,  12.,   0.,   0.],\n",
       "       [  0.,   0.,   6.,  13.,  10.,   0.,   0.,   0.]])"
      ]
     },
     "execution_count": 31,
     "metadata": {},
     "output_type": "execute_result"
    }
   ],
   "source": [
    "X[0].reshape(8,8)"
   ]
  },
  {
   "cell_type": "code",
   "execution_count": 32,
   "metadata": {},
   "outputs": [
    {
     "data": {
      "text/plain": [
       "<matplotlib.image.AxesImage at 0x9f3b6a0>"
      ]
     },
     "execution_count": 32,
     "metadata": {},
     "output_type": "execute_result"
    },
    {
     "data": {
      "image/png": "[encoded data removed]",
      "text/plain": [
       "<matplotlib.figure.Figure at 0x9b66f28>"
      ]
     },
     "metadata": {},
     "output_type": "display_data"
    }
   ],
   "source": [
    "plt.imshow(X[0].reshape(8,8), cmap =\"gray\")"
   ]
  },
  {
   "cell_type": "code",
   "execution_count": 35,
   "metadata": {},
   "outputs": [
    {
     "data": {
      "text/plain": [
       "array([0, 1, 2, ..., 8, 9, 8])"
      ]
     },
     "execution_count": 35,
     "metadata": {},
     "output_type": "execute_result"
    }
   ],
   "source": [
    "Y"
   ]
  },
  {
   "cell_type": "code",
   "execution_count": 34,
   "metadata": {},
   "outputs": [
    {
     "data": {
      "text/plain": [
       "DecisionTreeClassifier(class_weight=None, criterion='gini', max_depth=None,\n",
       "            max_features=None, max_leaf_nodes=None,\n",
       "            min_impurity_decrease=0.0, min_impurity_split=None,\n",
       "            min_samples_leaf=1, min_samples_split=2,\n",
       "            min_weight_fraction_leaf=0.0, presort=False, random_state=None,\n",
       "            splitter='best')"
      ]
     },
     "execution_count": 34,
     "metadata": {},
     "output_type": "execute_result"
    }
   ],
   "source": [
    "clf = DecisionTreeClassifier()\n",
    "clf.fit(X,Y)  # trained model"
   ]
  },
  {
   "cell_type": "code",
   "execution_count": 42,
   "metadata": {},
   "outputs": [
    {
     "name": "stdout",
     "output_type": "stream",
     "text": [
      "[2]\n"
     ]
    }
   ],
   "source": [
    "# preedict the data image of OCR\n",
    "\n",
    "print(clf.predict([X[2]]))"
   ]
  },
  {
   "cell_type": "code",
   "execution_count": null,
   "metadata": {
    "collapsed": true
   },
   "outputs": [],
   "source": []
  }
 ],
 "metadata": {
  "kernelspec": {
   "display_name": "Python 3",
   "language": "python",
   "name": "python3"
  },
  "language_info": {
   "codemirror_mode": {
    "name": "ipython",
    "version": 3
   },
   "file_extension": ".py",
   "mimetype": "text/x-python",
   "name": "python",
   "nbconvert_exporter": "python",
   "pygments_lexer": "ipython3",
   "version": "3.6.4"
  }
 },
 "nbformat": 4,
 "nbformat_minor": 2
}
